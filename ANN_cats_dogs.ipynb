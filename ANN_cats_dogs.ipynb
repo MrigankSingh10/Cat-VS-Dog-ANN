{
 "cells": [
  {
   "cell_type": "code",
   "execution_count": 3,
   "metadata": {},
   "outputs": [],
   "source": [
    "from keras.models import Sequential\n",
    "from keras.layers import Convolution2D\n",
    "from keras.layers import MaxPooling2D\n",
    "from keras.layers import Flatten\n",
    "from keras.layers import Dense\n",
    "import tensorflow as tf\n"
   ]
  },
  {
   "cell_type": "code",
   "execution_count": 4,
   "metadata": {},
   "outputs": [],
   "source": [
    "#initialising the  CNN\n",
    "classifier=Sequential()"
   ]
  },
  {
   "cell_type": "code",
   "execution_count": 5,
   "metadata": {},
   "outputs": [],
   "source": [
    "#step 1 Convolution\n",
    "classifier.add(Convolution2D(32,(3,3),input_shape=(64,64,3),activation='relu'))#32 means 32 filters and 3,3 means a grid of 3*3 input shape = size of images"
   ]
  },
  {
   "cell_type": "code",
   "execution_count": 6,
   "metadata": {},
   "outputs": [],
   "source": [
    "#step 2  Pooling\n",
    "classifier.add(MaxPooling2D(pool_size=(2,2)))\n"
   ]
  },
  {
   "cell_type": "code",
   "execution_count": 7,
   "metadata": {},
   "outputs": [],
   "source": [
    "#adding a second convulation layer\n",
    "classifier.add(Convolution2D(32,(3,3),activation='relu'))\n",
    "classifier.add(MaxPooling2D(pool_size=(2,2)))"
   ]
  },
  {
   "cell_type": "code",
   "execution_count": 8,
   "metadata": {},
   "outputs": [],
   "source": [
    "#step3 Flattening\n",
    "classifier.add(Flatten())"
   ]
  },
  {
   "cell_type": "code",
   "execution_count": 9,
   "metadata": {},
   "outputs": [],
   "source": [
    "#step 4 Full Connection\n",
    "classifier.add(Dense(units=128,activation='relu'))\n",
    "classifier.add(Dense(units=1,activation='sigmoid'))"
   ]
  },
  {
   "cell_type": "code",
   "execution_count": 10,
   "metadata": {},
   "outputs": [],
   "source": [
    "#compiling the cnn\n",
    "classifier.compile(optimizer='adam',loss='binary_crossentropy',metrics=['accuracy'])"
   ]
  },
  {
   "cell_type": "code",
   "execution_count": 11,
   "metadata": {},
   "outputs": [],
   "source": [
    "#fitting thr CNN to the images \n",
    "from keras.preprocessing.image import ImageDataGenerator"
   ]
  },
  {
   "cell_type": "code",
   "execution_count": 12,
   "metadata": {},
   "outputs": [],
   "source": [
    "train_datagen=ImageDataGenerator(rescale=1./255,# rescaling colors in 0 to 1 range\n",
    "                                shear_range=0.2,\n",
    "                                zoom_range=0.2,\n",
    "                                horizontal_flip=True)"
   ]
  },
  {
   "cell_type": "code",
   "execution_count": 1,
   "metadata": {},
   "outputs": [
    {
     "ename": "NameError",
     "evalue": "name 'train_datagen' is not defined",
     "output_type": "error",
     "traceback": [
      "\u001b[1;31m---------------------------------------------------------------------------\u001b[0m",
      "\u001b[1;31mNameError\u001b[0m                                 Traceback (most recent call last)",
      "\u001b[1;32m<ipython-input-1-72218922d4d9>\u001b[0m in \u001b[0;36m<module>\u001b[1;34m\u001b[0m\n\u001b[1;32m----> 1\u001b[1;33m training_set=train_datagen.flow_from_directory('input/dataset/training_set',\n\u001b[0m\u001b[0;32m      2\u001b[0m                                                \u001b[0mtarget_size\u001b[0m\u001b[1;33m=\u001b[0m\u001b[1;33m(\u001b[0m\u001b[1;36m64\u001b[0m\u001b[1;33m,\u001b[0m\u001b[1;36m64\u001b[0m\u001b[1;33m)\u001b[0m\u001b[1;33m,\u001b[0m\u001b[1;33m\u001b[0m\u001b[1;33m\u001b[0m\u001b[0m\n\u001b[0;32m      3\u001b[0m                                               \u001b[0mbatch_size\u001b[0m\u001b[1;33m=\u001b[0m\u001b[1;36m32\u001b[0m\u001b[1;33m,\u001b[0m\u001b[1;33m\u001b[0m\u001b[1;33m\u001b[0m\u001b[0m\n\u001b[0;32m      4\u001b[0m                                               class_mode='binary')\n",
      "\u001b[1;31mNameError\u001b[0m: name 'train_datagen' is not defined"
     ]
    }
   ],
   "source": [
    "training_set=train_datagen.flow_from_directory('input/dataset/training_set',\n",
    "                                               target_size=(64,64),\n",
    "                                              batch_size=32,\n",
    "                                              class_mode='binary')"
   ]
  },
  {
   "cell_type": "code",
   "execution_count": 14,
   "metadata": {},
   "outputs": [],
   "source": [
    "test_datagen=ImageDataGenerator(rescale=1./255)"
   ]
  },
  {
   "cell_type": "code",
   "execution_count": 13,
   "metadata": {},
   "outputs": [
    {
     "name": "stdout",
     "output_type": "stream",
     "text": [
      "Found 2000 images belonging to 2 classes.\n"
     ]
    }
   ],
   "source": [
    "test_set=test_datagen.flow_from_directory('input/dataset/test_set',\n",
    "                                               target_size=(64,64),\n",
    "                                              batch_size=32,\n",
    "                                              class_mode='binary')"
   ]
  },
  {
   "cell_type": "code",
   "execution_count": 14,
   "metadata": {},
   "outputs": [],
   "source": [
    "new_datagen=ImageDataGenerator(rescale=1./255)"
   ]
  },
  {
   "cell_type": "code",
   "execution_count": 15,
   "metadata": {},
   "outputs": [
    {
     "name": "stdout",
     "output_type": "stream",
     "text": [
      "Found 15 images belonging to 1 classes.\n"
     ]
    }
   ],
   "source": [
    "new_set=new_datagen.flow_from_directory('C:\\\\Users\\Mrigank Singh\\Downloads\\predict',\n",
    "                                               target_size=(64,64),\n",
    "                                              batch_size=32,\n",
    "                                              class_mode='binary')"
   ]
  },
  {
   "cell_type": "code",
   "execution_count": null,
   "metadata": {},
   "outputs": [
    {
     "name": "stdout",
     "output_type": "stream",
     "text": [
      "WARNING:tensorflow:From C:\\Users\\Mrigank Singh\\Anaconda3\\envs\\digiml\\lib\\site-packages\\tensorflow\\python\\ops\\math_ops.py:3066: to_int32 (from tensorflow.python.ops.math_ops) is deprecated and will be removed in a future version.\n",
      "Instructions for updating:\n",
      "Use tf.cast instead.\n",
      "Epoch 1/10\n",
      "250/250 [==============================] - 163s 650ms/step - loss: 0.6811 - acc: 0.5711 - val_loss: 0.6397 - val_acc: 0.6404\n",
      "Epoch 2/10\n",
      "250/250 [==============================] - 149s 597ms/step - loss: 0.6284 - acc: 0.6517 - val_loss: 0.6073 - val_acc: 0.6808\n",
      "Epoch 3/10\n",
      "250/250 [==============================] - 148s 594ms/step - loss: 0.5871 - acc: 0.6967 - val_loss: 0.5781 - val_acc: 0.6886\n",
      "Epoch 4/10\n",
      "250/250 [==============================] - 149s 596ms/step - loss: 0.5509 - acc: 0.7181 - val_loss: 0.5274 - val_acc: 0.7385\n",
      "Epoch 5/10\n",
      "250/250 [==============================] - 151s 606ms/step - loss: 0.5234 - acc: 0.7404 - val_loss: 0.5220 - val_acc: 0.7436\n",
      "Epoch 6/10\n",
      "250/250 [==============================] - 150s 601ms/step - loss: 0.5155 - acc: 0.7455 - val_loss: 0.5381 - val_acc: 0.7332\n",
      "Epoch 7/10\n",
      "249/250 [============================>.] - ETA: 0s - loss: 0.4872 - acc: 0.7608"
     ]
    }
   ],
   "source": [
    "classifier.fit_generator(training_set,\n",
    "                        steps_per_epoch=8000//32,# is equals to training files divided by batch size\n",
    "                        epochs=10,\n",
    "                        validation_data=test_set,\n",
    "                        validation_steps=2000)"
   ]
  },
  {
   "cell_type": "code",
   "execution_count": 15,
   "metadata": {},
   "outputs": [],
   "source": [
    "from ann_visualizer.visualize import ann_viz\n",
    "ann_viz(classifier)"
   ]
  },
  {
   "cell_type": "markdown",
   "metadata": {},
   "source": [
    "from PIL import Image,ImageFilter"
   ]
  },
  {
   "cell_type": "markdown",
   "metadata": {},
   "source": [
    "dog=Image.open('input/dataset/training_set/dogs/dog.1.jpg')"
   ]
  },
  {
   "cell_type": "markdown",
   "metadata": {},
   "source": [
    "dog.filter(ImageFilter.EMBOSS)"
   ]
  },
  {
   "cell_type": "code",
   "execution_count": 17,
   "metadata": {},
   "outputs": [],
   "source": [
    "classifier.save('catsvdog')# saving the model"
   ]
  },
  {
   "cell_type": "code",
   "execution_count": 18,
   "metadata": {},
   "outputs": [
    {
     "name": "stdout",
     "output_type": "stream",
     "text": [
      "1/0 [================================================================] - 0s 297ms/step\n"
     ]
    }
   ],
   "source": [
    "prediction=classifier.predict_generator(new_set,verbose=1,steps=15/32)"
   ]
  },
  {
   "cell_type": "code",
   "execution_count": 19,
   "metadata": {},
   "outputs": [],
   "source": [
    "import numpy as np\n",
    "preddicted_class_indices=np.argmax(prediction,axis=1)"
   ]
  },
  {
   "cell_type": "code",
   "execution_count": 20,
   "metadata": {},
   "outputs": [],
   "source": [
    "labels=(training_set.class_indices)\n",
    "labels=dict((v,k)for k,v in labels.items())\n",
    "prediction=[labels[k]for k in preddicted_class_indices]"
   ]
  },
  {
   "cell_type": "code",
   "execution_count": 21,
   "metadata": {},
   "outputs": [
    {
     "data": {
      "text/plain": [
       "['cats',\n",
       " 'cats',\n",
       " 'cats',\n",
       " 'cats',\n",
       " 'cats',\n",
       " 'cats',\n",
       " 'cats',\n",
       " 'cats',\n",
       " 'cats',\n",
       " 'cats',\n",
       " 'cats',\n",
       " 'cats',\n",
       " 'cats',\n",
       " 'cats',\n",
       " 'cats']"
      ]
     },
     "execution_count": 21,
     "metadata": {},
     "output_type": "execute_result"
    }
   ],
   "source": [
    "prediction"
   ]
  },
  {
   "cell_type": "code",
   "execution_count": null,
   "metadata": {},
   "outputs": [],
   "source": [
    "#softmax for multiple data"
   ]
  },
  {
   "cell_type": "code",
   "execution_count": 1,
   "metadata": {},
   "outputs": [
    {
     "name": "stderr",
     "output_type": "stream",
     "text": [
      "Using TensorFlow backend.\n"
     ]
    },
    {
     "name": "stdout",
     "output_type": "stream",
     "text": [
      "WARNING:tensorflow:From C:\\Users\\Mrigank Singh\\Anaconda3\\envs\\digiml\\lib\\site-packages\\tensorflow\\python\\framework\\op_def_library.py:263: colocate_with (from tensorflow.python.framework.ops) is deprecated and will be removed in a future version.\n",
      "Instructions for updating:\n",
      "Colocations handled automatically by placer.\n",
      "WARNING:tensorflow:From C:\\Users\\Mrigank Singh\\Anaconda3\\envs\\digiml\\lib\\site-packages\\tensorflow\\python\\ops\\math_ops.py:3066: to_int32 (from tensorflow.python.ops.math_ops) is deprecated and will be removed in a future version.\n",
      "Instructions for updating:\n",
      "Use tf.cast instead.\n"
     ]
    }
   ],
   "source": [
    "from keras.models import load_model\n",
    "model=load_model('catsvdog')"
   ]
  },
  {
   "cell_type": "code",
   "execution_count": 2,
   "metadata": {},
   "outputs": [],
   "source": [
    "import tensorflow\n",
    "import keras\n",
    "import numpy as np\n",
    "import os"
   ]
  },
  {
   "cell_type": "code",
   "execution_count": 3,
   "metadata": {},
   "outputs": [],
   "source": [
    "def img_to_array(path,size=(64,64),sess= keras.backend.get_session()):\n",
    "    \n",
    "    img=tensorflow.read_file(path)\n",
    "    img=tensorflow.image.decode_jpeg(img,channels=3)\n",
    "    img.set_shape([None,None,3])\n",
    "    img=tensorflow.image.resize_images(img,size)\n",
    "    img=img.eval(session=sess)# convert to numpy array\n",
    "    img=np.expand_dims(img,0)# make 'batch of 1'\n",
    "    return img"
   ]
  },
  {
   "cell_type": "code",
   "execution_count": 16,
   "metadata": {},
   "outputs": [],
   "source": [
    "base='input/dataset/test_set/dogs/'\n",
    "files=os.listdir(base)\n",
    "fullpath=[base+file for file in files]\n",
    "base='input/dataset/test_set/cats/'\n",
    "files=os.listdir(base)\n",
    "fullpath+=[base+file for file in files]"
   ]
  },
  {
   "cell_type": "code",
   "execution_count": null,
   "metadata": {},
   "outputs": [
    {
     "name": "stdout",
     "output_type": "stream",
     "text": [
      "input/dataset/test_set/dogs/dog.4001.jpg is cat\n",
      "input/dataset/test_set/dogs/dog.4002.jpg is dog\n",
      "input/dataset/test_set/dogs/dog.4003.jpg is dog\n",
      "input/dataset/test_set/dogs/dog.4004.jpg is dog\n",
      "input/dataset/test_set/dogs/dog.4005.jpg is dog\n",
      "input/dataset/test_set/dogs/dog.4006.jpg is cat\n",
      "input/dataset/test_set/dogs/dog.4007.jpg is dog\n",
      "input/dataset/test_set/dogs/dog.4008.jpg is dog\n",
      "input/dataset/test_set/dogs/dog.4009.jpg is dog\n",
      "input/dataset/test_set/dogs/dog.4010.jpg is dog\n",
      "input/dataset/test_set/dogs/dog.4011.jpg is dog\n",
      "input/dataset/test_set/dogs/dog.4012.jpg is dog\n",
      "input/dataset/test_set/dogs/dog.4013.jpg is dog\n",
      "input/dataset/test_set/dogs/dog.4014.jpg is dog\n",
      "input/dataset/test_set/dogs/dog.4015.jpg is dog\n",
      "input/dataset/test_set/dogs/dog.4016.jpg is dog\n",
      "input/dataset/test_set/dogs/dog.4017.jpg is dog\n",
      "input/dataset/test_set/dogs/dog.4018.jpg is dog\n",
      "input/dataset/test_set/dogs/dog.4019.jpg is dog\n",
      "input/dataset/test_set/dogs/dog.4020.jpg is dog\n",
      "input/dataset/test_set/dogs/dog.4021.jpg is dog\n",
      "input/dataset/test_set/dogs/dog.4022.jpg is dog\n",
      "input/dataset/test_set/dogs/dog.4023.jpg is cat\n",
      "input/dataset/test_set/dogs/dog.4024.jpg is dog\n",
      "input/dataset/test_set/dogs/dog.4025.jpg is dog\n",
      "input/dataset/test_set/dogs/dog.4026.jpg is dog\n",
      "input/dataset/test_set/dogs/dog.4027.jpg is dog\n",
      "input/dataset/test_set/dogs/dog.4028.jpg is dog\n",
      "input/dataset/test_set/dogs/dog.4029.jpg is dog\n",
      "input/dataset/test_set/dogs/dog.4030.jpg is dog\n",
      "input/dataset/test_set/dogs/dog.4031.jpg is dog\n",
      "input/dataset/test_set/dogs/dog.4032.jpg is dog\n",
      "input/dataset/test_set/dogs/dog.4033.jpg is dog\n",
      "input/dataset/test_set/dogs/dog.4034.jpg is dog\n",
      "input/dataset/test_set/dogs/dog.4035.jpg is dog\n",
      "input/dataset/test_set/dogs/dog.4036.jpg is dog\n",
      "input/dataset/test_set/dogs/dog.4037.jpg is dog\n",
      "input/dataset/test_set/dogs/dog.4038.jpg is dog\n",
      "input/dataset/test_set/dogs/dog.4039.jpg is dog\n",
      "input/dataset/test_set/dogs/dog.4040.jpg is dog\n",
      "input/dataset/test_set/dogs/dog.4041.jpg is dog\n",
      "input/dataset/test_set/dogs/dog.4042.jpg is dog\n",
      "input/dataset/test_set/dogs/dog.4043.jpg is cat\n",
      "input/dataset/test_set/dogs/dog.4044.jpg is dog\n",
      "input/dataset/test_set/dogs/dog.4045.jpg is dog\n",
      "input/dataset/test_set/dogs/dog.4046.jpg is dog\n",
      "input/dataset/test_set/dogs/dog.4047.jpg is dog\n",
      "input/dataset/test_set/dogs/dog.4048.jpg is dog\n",
      "input/dataset/test_set/dogs/dog.4049.jpg is dog\n",
      "input/dataset/test_set/dogs/dog.4050.jpg is cat\n",
      "input/dataset/test_set/dogs/dog.4051.jpg is dog\n",
      "input/dataset/test_set/dogs/dog.4052.jpg is dog\n",
      "input/dataset/test_set/dogs/dog.4053.jpg is dog\n",
      "input/dataset/test_set/dogs/dog.4054.jpg is dog\n",
      "input/dataset/test_set/dogs/dog.4055.jpg is dog\n",
      "input/dataset/test_set/dogs/dog.4056.jpg is dog\n",
      "input/dataset/test_set/dogs/dog.4057.jpg is dog\n",
      "input/dataset/test_set/dogs/dog.4058.jpg is dog\n",
      "input/dataset/test_set/dogs/dog.4059.jpg is dog\n",
      "input/dataset/test_set/dogs/dog.4060.jpg is dog\n",
      "input/dataset/test_set/dogs/dog.4061.jpg is dog\n",
      "input/dataset/test_set/dogs/dog.4062.jpg is dog\n",
      "input/dataset/test_set/dogs/dog.4063.jpg is dog\n",
      "input/dataset/test_set/dogs/dog.4064.jpg is dog\n",
      "input/dataset/test_set/dogs/dog.4065.jpg is dog\n",
      "input/dataset/test_set/dogs/dog.4066.jpg is dog\n",
      "input/dataset/test_set/dogs/dog.4067.jpg is dog\n",
      "input/dataset/test_set/dogs/dog.4068.jpg is dog\n",
      "input/dataset/test_set/dogs/dog.4069.jpg is dog\n",
      "input/dataset/test_set/dogs/dog.4070.jpg is dog\n",
      "input/dataset/test_set/dogs/dog.4071.jpg is dog\n",
      "input/dataset/test_set/dogs/dog.4072.jpg is dog\n",
      "input/dataset/test_set/dogs/dog.4073.jpg is dog\n",
      "input/dataset/test_set/dogs/dog.4074.jpg is dog\n",
      "input/dataset/test_set/dogs/dog.4075.jpg is dog\n",
      "input/dataset/test_set/dogs/dog.4076.jpg is dog\n",
      "input/dataset/test_set/dogs/dog.4077.jpg is dog\n",
      "input/dataset/test_set/dogs/dog.4078.jpg is dog\n",
      "input/dataset/test_set/dogs/dog.4079.jpg is dog\n",
      "input/dataset/test_set/dogs/dog.4080.jpg is cat\n",
      "input/dataset/test_set/dogs/dog.4081.jpg is dog\n",
      "input/dataset/test_set/dogs/dog.4082.jpg is dog\n",
      "input/dataset/test_set/dogs/dog.4083.jpg is dog\n",
      "input/dataset/test_set/dogs/dog.4084.jpg is dog\n",
      "input/dataset/test_set/dogs/dog.4085.jpg is dog\n",
      "input/dataset/test_set/dogs/dog.4086.jpg is dog\n",
      "input/dataset/test_set/dogs/dog.4087.jpg is dog\n",
      "input/dataset/test_set/dogs/dog.4088.jpg is dog\n",
      "input/dataset/test_set/dogs/dog.4089.jpg is dog\n",
      "input/dataset/test_set/dogs/dog.4090.jpg is dog\n",
      "input/dataset/test_set/dogs/dog.4091.jpg is dog\n",
      "input/dataset/test_set/dogs/dog.4092.jpg is dog\n",
      "input/dataset/test_set/dogs/dog.4093.jpg is dog\n",
      "input/dataset/test_set/dogs/dog.4094.jpg is cat\n",
      "input/dataset/test_set/dogs/dog.4095.jpg is dog\n",
      "input/dataset/test_set/dogs/dog.4096.jpg is dog\n",
      "input/dataset/test_set/dogs/dog.4097.jpg is cat\n",
      "input/dataset/test_set/dogs/dog.4098.jpg is dog\n",
      "input/dataset/test_set/dogs/dog.4100.jpg is dog\n",
      "input/dataset/test_set/dogs/dog.4101.jpg is dog\n",
      "input/dataset/test_set/dogs/dog.4102.jpg is dog\n",
      "input/dataset/test_set/dogs/dog.4103.jpg is dog\n",
      "input/dataset/test_set/dogs/dog.4104.jpg is dog\n",
      "input/dataset/test_set/dogs/dog.4105.jpg is dog\n",
      "input/dataset/test_set/dogs/dog.4106.jpg is dog\n",
      "input/dataset/test_set/dogs/dog.4107.jpg is dog\n",
      "input/dataset/test_set/dogs/dog.4108.jpg is dog\n",
      "input/dataset/test_set/dogs/dog.4109.jpg is dog\n",
      "input/dataset/test_set/dogs/dog.4110.jpg is cat\n",
      "input/dataset/test_set/dogs/dog.4111.jpg is dog\n",
      "input/dataset/test_set/dogs/dog.4112.jpg is dog\n",
      "input/dataset/test_set/dogs/dog.4113.jpg is dog\n",
      "input/dataset/test_set/dogs/dog.4114.jpg is dog\n",
      "input/dataset/test_set/dogs/dog.4115.jpg is dog\n",
      "input/dataset/test_set/dogs/dog.4116.jpg is dog\n",
      "input/dataset/test_set/dogs/dog.4117.jpg is dog\n",
      "input/dataset/test_set/dogs/dog.4118.jpg is dog\n",
      "input/dataset/test_set/dogs/dog.4119.jpg is cat\n",
      "input/dataset/test_set/dogs/dog.4120.jpg is dog\n",
      "input/dataset/test_set/dogs/dog.4121.jpg is dog\n",
      "input/dataset/test_set/dogs/dog.4122.jpg is dog\n",
      "input/dataset/test_set/dogs/dog.4123.jpg is dog\n",
      "input/dataset/test_set/dogs/dog.4124.jpg is dog\n",
      "input/dataset/test_set/dogs/dog.4125.jpg is dog\n",
      "input/dataset/test_set/dogs/dog.4126.jpg is dog\n",
      "input/dataset/test_set/dogs/dog.4127.jpg is cat\n",
      "input/dataset/test_set/dogs/dog.4128.jpg is dog\n",
      "input/dataset/test_set/dogs/dog.4129.jpg is dog\n",
      "input/dataset/test_set/dogs/dog.4130.jpg is dog\n",
      "input/dataset/test_set/dogs/dog.4131.jpg is dog\n",
      "input/dataset/test_set/dogs/dog.4132.jpg is dog\n",
      "input/dataset/test_set/dogs/dog.4133.jpg is dog\n",
      "input/dataset/test_set/dogs/dog.4134.jpg is dog\n",
      "input/dataset/test_set/dogs/dog.4135.jpg is dog\n",
      "input/dataset/test_set/dogs/dog.4136.jpg is dog\n",
      "input/dataset/test_set/dogs/dog.4137.jpg is dog\n",
      "input/dataset/test_set/dogs/dog.4138.jpg is dog\n",
      "input/dataset/test_set/dogs/dog.4139.jpg is dog\n",
      "input/dataset/test_set/dogs/dog.4140.jpg is dog\n",
      "input/dataset/test_set/dogs/dog.4141.jpg is dog\n",
      "input/dataset/test_set/dogs/dog.4142.jpg is dog\n",
      "input/dataset/test_set/dogs/dog.4143.jpg is dog\n",
      "input/dataset/test_set/dogs/dog.4144.jpg is dog\n",
      "input/dataset/test_set/dogs/dog.4145.jpg is dog\n",
      "input/dataset/test_set/dogs/dog.4146.jpg is dog\n",
      "input/dataset/test_set/dogs/dog.4147.jpg is dog\n",
      "input/dataset/test_set/dogs/dog.4148.jpg is dog\n",
      "input/dataset/test_set/dogs/dog.4149.jpg is dog\n",
      "input/dataset/test_set/dogs/dog.4150.jpg is cat\n",
      "input/dataset/test_set/dogs/dog.4151.jpg is cat\n",
      "input/dataset/test_set/dogs/dog.4152.jpg is dog\n",
      "input/dataset/test_set/dogs/dog.4153.jpg is dog\n",
      "input/dataset/test_set/dogs/dog.4154.jpg is cat\n",
      "input/dataset/test_set/dogs/dog.4155.jpg is dog\n",
      "input/dataset/test_set/dogs/dog.4156.jpg is dog\n",
      "input/dataset/test_set/dogs/dog.4157.jpg is cat\n",
      "input/dataset/test_set/dogs/dog.4158.jpg is dog\n",
      "input/dataset/test_set/dogs/dog.4159.jpg is cat\n",
      "input/dataset/test_set/dogs/dog.4160.jpg is dog\n",
      "input/dataset/test_set/dogs/dog.4161.jpg is dog\n",
      "input/dataset/test_set/dogs/dog.4162.jpg is dog\n",
      "input/dataset/test_set/dogs/dog.4163.jpg is dog\n",
      "input/dataset/test_set/dogs/dog.4164.jpg is dog\n",
      "input/dataset/test_set/dogs/dog.4165.jpg is dog\n",
      "input/dataset/test_set/dogs/dog.4166.jpg is dog\n",
      "input/dataset/test_set/dogs/dog.4167.jpg is dog\n",
      "input/dataset/test_set/dogs/dog.4168.jpg is dog\n",
      "input/dataset/test_set/dogs/dog.4169.jpg is dog\n",
      "input/dataset/test_set/dogs/dog.4170.jpg is dog\n",
      "input/dataset/test_set/dogs/dog.4171.jpg is cat\n",
      "input/dataset/test_set/dogs/dog.4172.jpg is dog\n",
      "input/dataset/test_set/dogs/dog.4173.jpg is dog\n",
      "input/dataset/test_set/dogs/dog.4174.jpg is dog\n",
      "input/dataset/test_set/dogs/dog.4175.jpg is dog\n",
      "input/dataset/test_set/dogs/dog.4176.jpg is dog\n",
      "input/dataset/test_set/dogs/dog.4177.jpg is dog\n",
      "input/dataset/test_set/dogs/dog.4178.jpg is dog\n",
      "input/dataset/test_set/dogs/dog.4179.jpg is dog\n",
      "input/dataset/test_set/dogs/dog.4180.jpg is dog\n",
      "input/dataset/test_set/dogs/dog.4181.jpg is dog\n",
      "input/dataset/test_set/dogs/dog.4182.jpg is cat\n",
      "input/dataset/test_set/dogs/dog.4183.jpg is cat\n",
      "input/dataset/test_set/dogs/dog.4184.jpg is cat\n",
      "input/dataset/test_set/dogs/dog.4185.jpg is cat\n",
      "input/dataset/test_set/dogs/dog.4186.jpg is dog\n",
      "input/dataset/test_set/dogs/dog.4187.jpg is dog\n",
      "input/dataset/test_set/dogs/dog.4188.jpg is dog\n",
      "input/dataset/test_set/dogs/dog.4189.jpg is dog\n",
      "input/dataset/test_set/dogs/dog.4190.jpg is dog\n",
      "input/dataset/test_set/dogs/dog.4191.jpg is dog\n",
      "input/dataset/test_set/dogs/dog.4192.jpg is dog\n",
      "input/dataset/test_set/dogs/dog.4193.jpg is dog\n",
      "input/dataset/test_set/dogs/dog.4194.jpg is dog\n",
      "input/dataset/test_set/dogs/dog.4195.jpg is dog\n",
      "input/dataset/test_set/dogs/dog.4196.jpg is dog\n",
      "input/dataset/test_set/dogs/dog.4197.jpg is dog\n",
      "input/dataset/test_set/dogs/dog.4198.jpg is dog\n",
      "input/dataset/test_set/dogs/dog.4199.jpg is cat\n",
      "input/dataset/test_set/dogs/dog.4200.jpg is dog\n",
      "input/dataset/test_set/dogs/dog.4201.jpg is cat\n",
      "input/dataset/test_set/dogs/dog.4202.jpg is dog\n",
      "input/dataset/test_set/dogs/dog.4203.jpg is dog\n",
      "input/dataset/test_set/dogs/dog.4204.jpg is dog\n",
      "input/dataset/test_set/dogs/dog.4205.jpg is dog\n",
      "input/dataset/test_set/dogs/dog.4206.jpg is dog\n",
      "input/dataset/test_set/dogs/dog.4207.jpg is dog\n",
      "input/dataset/test_set/dogs/dog.4208.jpg is dog\n",
      "input/dataset/test_set/dogs/dog.4209.jpg is dog\n",
      "input/dataset/test_set/dogs/dog.4210.jpg is dog\n",
      "input/dataset/test_set/dogs/dog.4211.jpg is dog\n",
      "input/dataset/test_set/dogs/dog.4212.jpg is dog\n",
      "input/dataset/test_set/dogs/dog.4213.jpg is dog\n",
      "input/dataset/test_set/dogs/dog.4214.jpg is dog\n",
      "input/dataset/test_set/dogs/dog.4215.jpg is dog\n",
      "input/dataset/test_set/dogs/dog.4216.jpg is dog\n",
      "input/dataset/test_set/dogs/dog.4217.jpg is dog\n",
      "input/dataset/test_set/dogs/dog.4218.jpg is dog\n",
      "input/dataset/test_set/dogs/dog.4219.jpg is dog\n",
      "input/dataset/test_set/dogs/dog.4220.jpg is dog\n",
      "input/dataset/test_set/dogs/dog.4221.jpg is dog\n",
      "input/dataset/test_set/dogs/dog.4222.jpg is dog\n",
      "input/dataset/test_set/dogs/dog.4223.jpg is dog\n",
      "input/dataset/test_set/dogs/dog.4224.jpg is dog\n",
      "input/dataset/test_set/dogs/dog.4225.jpg is dog\n",
      "input/dataset/test_set/dogs/dog.4226.jpg is dog\n",
      "input/dataset/test_set/dogs/dog.4227.jpg is dog\n",
      "input/dataset/test_set/dogs/dog.4228.jpg is dog\n",
      "input/dataset/test_set/dogs/dog.4229.jpg is dog\n",
      "input/dataset/test_set/dogs/dog.4230.jpg is dog\n",
      "input/dataset/test_set/dogs/dog.4231.jpg is dog\n",
      "input/dataset/test_set/dogs/dog.4232.jpg is dog\n",
      "input/dataset/test_set/dogs/dog.4233.jpg is dog\n",
      "input/dataset/test_set/dogs/dog.4234.jpg is dog\n",
      "input/dataset/test_set/dogs/dog.4235.jpg is dog\n",
      "input/dataset/test_set/dogs/dog.4236.jpg is dog\n",
      "input/dataset/test_set/dogs/dog.4237.jpg is dog\n",
      "input/dataset/test_set/dogs/dog.4238.jpg is dog\n",
      "input/dataset/test_set/dogs/dog.4239.jpg is dog\n",
      "input/dataset/test_set/dogs/dog.4240.jpg is dog\n",
      "input/dataset/test_set/dogs/dog.4241.jpg is dog\n",
      "input/dataset/test_set/dogs/dog.4242.jpg is dog\n",
      "input/dataset/test_set/dogs/dog.4243.jpg is dog\n",
      "input/dataset/test_set/dogs/dog.4244.jpg is dog\n",
      "input/dataset/test_set/dogs/dog.4245.jpg is dog\n",
      "input/dataset/test_set/dogs/dog.4246.jpg is dog\n",
      "input/dataset/test_set/dogs/dog.4247.jpg is dog\n",
      "input/dataset/test_set/dogs/dog.4248.jpg is dog\n",
      "input/dataset/test_set/dogs/dog.4249.jpg is dog\n",
      "input/dataset/test_set/dogs/dog.4250.jpg is dog\n",
      "input/dataset/test_set/dogs/dog.4251.jpg is dog\n",
      "input/dataset/test_set/dogs/dog.4252.jpg is dog\n",
      "input/dataset/test_set/dogs/dog.4253.jpg is dog\n",
      "input/dataset/test_set/dogs/dog.4254.jpg is dog\n",
      "input/dataset/test_set/dogs/dog.4255.jpg is cat\n",
      "input/dataset/test_set/dogs/dog.4256.jpg is dog\n",
      "input/dataset/test_set/dogs/dog.4257.jpg is dog\n",
      "input/dataset/test_set/dogs/dog.4258.jpg is dog\n",
      "input/dataset/test_set/dogs/dog.4259.jpg is dog\n",
      "input/dataset/test_set/dogs/dog.4260.jpg is dog\n",
      "input/dataset/test_set/dogs/dog.4261.jpg is dog\n",
      "input/dataset/test_set/dogs/dog.4262.jpg is dog\n",
      "input/dataset/test_set/dogs/dog.4263.jpg is dog\n",
      "input/dataset/test_set/dogs/dog.4264.jpg is dog\n",
      "input/dataset/test_set/dogs/dog.4265.jpg is dog\n",
      "input/dataset/test_set/dogs/dog.4266.jpg is dog\n",
      "input/dataset/test_set/dogs/dog.4267.jpg is dog\n",
      "input/dataset/test_set/dogs/dog.4268.jpg is dog\n",
      "input/dataset/test_set/dogs/dog.4269.jpg is dog\n",
      "input/dataset/test_set/dogs/dog.4270.jpg is dog\n",
      "input/dataset/test_set/dogs/dog.4271.jpg is dog\n",
      "input/dataset/test_set/dogs/dog.4272.jpg is dog\n",
      "input/dataset/test_set/dogs/dog.4273.jpg is dog\n",
      "input/dataset/test_set/dogs/dog.4274.jpg is dog\n",
      "input/dataset/test_set/dogs/dog.4275.jpg is dog\n",
      "input/dataset/test_set/dogs/dog.4276.jpg is dog\n",
      "input/dataset/test_set/dogs/dog.4277.jpg is dog\n",
      "input/dataset/test_set/dogs/dog.4278.jpg is dog\n",
      "input/dataset/test_set/dogs/dog.4279.jpg is dog\n",
      "input/dataset/test_set/dogs/dog.4280.jpg is dog\n",
      "input/dataset/test_set/dogs/dog.4281.jpg is dog\n",
      "input/dataset/test_set/dogs/dog.4282.jpg is dog\n",
      "input/dataset/test_set/dogs/dog.4283.jpg is cat\n",
      "input/dataset/test_set/dogs/dog.4284.jpg is dog\n",
      "input/dataset/test_set/dogs/dog.4285.jpg is dog\n",
      "input/dataset/test_set/dogs/dog.4286.jpg is dog\n",
      "input/dataset/test_set/dogs/dog.4287.jpg is dog\n",
      "input/dataset/test_set/dogs/dog.4288.jpg is cat\n",
      "input/dataset/test_set/dogs/dog.4289.jpg is dog\n",
      "input/dataset/test_set/dogs/dog.4290.jpg is dog\n",
      "input/dataset/test_set/dogs/dog.4291.jpg is dog\n",
      "input/dataset/test_set/dogs/dog.4292.jpg is dog\n",
      "input/dataset/test_set/dogs/dog.4293.jpg is cat\n",
      "input/dataset/test_set/dogs/dog.4294.jpg is dog\n",
      "input/dataset/test_set/dogs/dog.4295.jpg is dog\n",
      "input/dataset/test_set/dogs/dog.4296.jpg is dog\n",
      "input/dataset/test_set/dogs/dog.4297.jpg is cat\n",
      "input/dataset/test_set/dogs/dog.4298.jpg is dog\n",
      "input/dataset/test_set/dogs/dog.4299.jpg is cat\n",
      "input/dataset/test_set/dogs/dog.4300.jpg is dog\n",
      "input/dataset/test_set/dogs/dog.4301.jpg is cat\n",
      "input/dataset/test_set/dogs/dog.4302.jpg is dog\n",
      "input/dataset/test_set/dogs/dog.4303.jpg is dog\n",
      "input/dataset/test_set/dogs/dog.4304.jpg is dog\n",
      "input/dataset/test_set/dogs/dog.4305.jpg is dog\n",
      "input/dataset/test_set/dogs/dog.4306.jpg is dog\n",
      "input/dataset/test_set/dogs/dog.4307.jpg is dog\n",
      "input/dataset/test_set/dogs/dog.4308.jpg is dog\n",
      "input/dataset/test_set/dogs/dog.4309.jpg is dog\n",
      "input/dataset/test_set/dogs/dog.4310.jpg is dog\n",
      "input/dataset/test_set/dogs/dog.4311.jpg is dog\n",
      "input/dataset/test_set/dogs/dog.4312.jpg is dog\n",
      "input/dataset/test_set/dogs/dog.4313.jpg is dog\n",
      "input/dataset/test_set/dogs/dog.4314.jpg is cat\n",
      "input/dataset/test_set/dogs/dog.4315.jpg is dog\n",
      "input/dataset/test_set/dogs/dog.4316.jpg is dog\n",
      "input/dataset/test_set/dogs/dog.4317.jpg is dog\n",
      "input/dataset/test_set/dogs/dog.4318.jpg is cat\n",
      "input/dataset/test_set/dogs/dog.4319.jpg is dog\n",
      "input/dataset/test_set/dogs/dog.4320.jpg is dog\n",
      "input/dataset/test_set/dogs/dog.4321.jpg is dog\n",
      "input/dataset/test_set/dogs/dog.4322.jpg is dog\n",
      "input/dataset/test_set/dogs/dog.4323.jpg is dog\n",
      "input/dataset/test_set/dogs/dog.4324.jpg is dog\n",
      "input/dataset/test_set/dogs/dog.4325.jpg is dog\n",
      "input/dataset/test_set/dogs/dog.4326.jpg is dog\n",
      "input/dataset/test_set/dogs/dog.4327.jpg is dog\n",
      "input/dataset/test_set/dogs/dog.4328.jpg is dog\n",
      "input/dataset/test_set/dogs/dog.4329.jpg is dog\n",
      "input/dataset/test_set/dogs/dog.4330.jpg is dog\n",
      "input/dataset/test_set/dogs/dog.4331.jpg is dog\n",
      "input/dataset/test_set/dogs/dog.4332.jpg is dog\n",
      "input/dataset/test_set/dogs/dog.4333.jpg is dog\n",
      "input/dataset/test_set/dogs/dog.4334.jpg is dog\n",
      "input/dataset/test_set/dogs/dog.4335.jpg is dog\n",
      "input/dataset/test_set/dogs/dog.4336.jpg is dog\n",
      "input/dataset/test_set/dogs/dog.4337.jpg is dog\n",
      "input/dataset/test_set/dogs/dog.4338.jpg is dog\n",
      "input/dataset/test_set/dogs/dog.4339.jpg is dog\n",
      "input/dataset/test_set/dogs/dog.4340.jpg is dog\n",
      "input/dataset/test_set/dogs/dog.4341.jpg is dog\n",
      "input/dataset/test_set/dogs/dog.4342.jpg is dog\n",
      "input/dataset/test_set/dogs/dog.4343.jpg is dog\n",
      "input/dataset/test_set/dogs/dog.4344.jpg is dog\n",
      "input/dataset/test_set/dogs/dog.4345.jpg is dog\n",
      "input/dataset/test_set/dogs/dog.4346.jpg is dog\n",
      "input/dataset/test_set/dogs/dog.4347.jpg is dog\n",
      "input/dataset/test_set/dogs/dog.4348.jpg is dog\n",
      "input/dataset/test_set/dogs/dog.4349.jpg is dog\n",
      "input/dataset/test_set/dogs/dog.4350.jpg is cat\n",
      "input/dataset/test_set/dogs/dog.4351.jpg is dog\n",
      "input/dataset/test_set/dogs/dog.4352.jpg is dog\n",
      "input/dataset/test_set/dogs/dog.4353.jpg is dog\n",
      "input/dataset/test_set/dogs/dog.4354.jpg is dog\n",
      "input/dataset/test_set/dogs/dog.4355.jpg is dog\n",
      "input/dataset/test_set/dogs/dog.4356.jpg is dog\n",
      "input/dataset/test_set/dogs/dog.4357.jpg is cat\n",
      "input/dataset/test_set/dogs/dog.4358.jpg is dog\n",
      "input/dataset/test_set/dogs/dog.4359.jpg is dog\n",
      "input/dataset/test_set/dogs/dog.4360.jpg is dog\n",
      "input/dataset/test_set/dogs/dog.4361.jpg is dog\n",
      "input/dataset/test_set/dogs/dog.4362.jpg is dog\n",
      "input/dataset/test_set/dogs/dog.4363.jpg is cat\n",
      "input/dataset/test_set/dogs/dog.4364.jpg is dog\n",
      "input/dataset/test_set/dogs/dog.4365.jpg is dog\n",
      "input/dataset/test_set/dogs/dog.4366.jpg is dog\n",
      "input/dataset/test_set/dogs/dog.4367.jpg is dog\n",
      "input/dataset/test_set/dogs/dog.4368.jpg is cat\n",
      "input/dataset/test_set/dogs/dog.4369.jpg is dog\n",
      "input/dataset/test_set/dogs/dog.4370.jpg is dog\n",
      "input/dataset/test_set/dogs/dog.4371.jpg is dog\n",
      "input/dataset/test_set/dogs/dog.4372.jpg is dog\n",
      "input/dataset/test_set/dogs/dog.4373.jpg is dog\n",
      "input/dataset/test_set/dogs/dog.4374.jpg is dog\n",
      "input/dataset/test_set/dogs/dog.4375.jpg is cat\n",
      "input/dataset/test_set/dogs/dog.4376.jpg is dog\n",
      "input/dataset/test_set/dogs/dog.4377.jpg is dog\n",
      "input/dataset/test_set/dogs/dog.4378.jpg is dog\n",
      "input/dataset/test_set/dogs/dog.4379.jpg is dog\n",
      "input/dataset/test_set/dogs/dog.4380.jpg is dog\n",
      "input/dataset/test_set/dogs/dog.4381.jpg is dog\n",
      "input/dataset/test_set/dogs/dog.4382.jpg is dog\n",
      "input/dataset/test_set/dogs/dog.4383.jpg is dog\n",
      "input/dataset/test_set/dogs/dog.4384.jpg is dog\n",
      "input/dataset/test_set/dogs/dog.4385.jpg is dog\n",
      "input/dataset/test_set/dogs/dog.4386.jpg is dog\n",
      "input/dataset/test_set/dogs/dog.4387.jpg is dog\n",
      "input/dataset/test_set/dogs/dog.4388.jpg is cat\n",
      "input/dataset/test_set/dogs/dog.4389.jpg is dog\n",
      "input/dataset/test_set/dogs/dog.4390.jpg is dog\n",
      "input/dataset/test_set/dogs/dog.4391.jpg is dog\n",
      "input/dataset/test_set/dogs/dog.4392.jpg is dog\n",
      "input/dataset/test_set/dogs/dog.4393.jpg is dog\n",
      "input/dataset/test_set/dogs/dog.4394.jpg is cat\n",
      "input/dataset/test_set/dogs/dog.4395.jpg is dog\n",
      "input/dataset/test_set/dogs/dog.4396.jpg is dog\n",
      "input/dataset/test_set/dogs/dog.4397.jpg is dog\n",
      "input/dataset/test_set/dogs/dog.4398.jpg is cat\n",
      "input/dataset/test_set/dogs/dog.4399.jpg is dog\n",
      "input/dataset/test_set/dogs/dog.4400.jpg is dog\n",
      "input/dataset/test_set/dogs/dog.4401.jpg is dog\n",
      "input/dataset/test_set/dogs/dog.4402.jpg is dog\n",
      "input/dataset/test_set/dogs/dog.4403.jpg is dog\n",
      "input/dataset/test_set/dogs/dog.4404.jpg is dog\n",
      "input/dataset/test_set/dogs/dog.4405.jpg is dog\n",
      "input/dataset/test_set/dogs/dog.4406.jpg is dog\n",
      "input/dataset/test_set/dogs/dog.4407.jpg is dog\n",
      "input/dataset/test_set/dogs/dog.4408.jpg is dog\n",
      "input/dataset/test_set/dogs/dog.4409.jpg is dog\n",
      "input/dataset/test_set/dogs/dog.4410.jpg is dog\n",
      "input/dataset/test_set/dogs/dog.4411.jpg is cat\n",
      "input/dataset/test_set/dogs/dog.4412.jpg is dog\n",
      "input/dataset/test_set/dogs/dog.4413.jpg is dog\n",
      "input/dataset/test_set/dogs/dog.4414.jpg is dog\n",
      "input/dataset/test_set/dogs/dog.4415.jpg is dog\n",
      "input/dataset/test_set/dogs/dog.4416.jpg is dog\n",
      "input/dataset/test_set/dogs/dog.4417.jpg is dog\n",
      "input/dataset/test_set/dogs/dog.4418.jpg is dog\n",
      "input/dataset/test_set/dogs/dog.4419.jpg is dog\n",
      "input/dataset/test_set/dogs/dog.4420.jpg is dog\n",
      "input/dataset/test_set/dogs/dog.4421.jpg is cat\n",
      "input/dataset/test_set/dogs/dog.4422.jpg is cat\n",
      "input/dataset/test_set/dogs/dog.4423.jpg is dog\n",
      "input/dataset/test_set/dogs/dog.4424.jpg is dog\n",
      "input/dataset/test_set/dogs/dog.4425.jpg is dog\n",
      "input/dataset/test_set/dogs/dog.4426.jpg is dog\n",
      "input/dataset/test_set/dogs/dog.4427.jpg is dog\n",
      "input/dataset/test_set/dogs/dog.4428.jpg is dog\n",
      "input/dataset/test_set/dogs/dog.4429.jpg is cat\n",
      "input/dataset/test_set/dogs/dog.4430.jpg is dog\n",
      "input/dataset/test_set/dogs/dog.4431.jpg is dog\n",
      "input/dataset/test_set/dogs/dog.4432.jpg is dog\n",
      "input/dataset/test_set/dogs/dog.4433.jpg is dog\n",
      "input/dataset/test_set/dogs/dog.4434.jpg is dog\n",
      "input/dataset/test_set/dogs/dog.4435.jpg is cat\n",
      "input/dataset/test_set/dogs/dog.4436.jpg is dog\n",
      "input/dataset/test_set/dogs/dog.4437.jpg is dog\n",
      "input/dataset/test_set/dogs/dog.4438.jpg is dog\n",
      "input/dataset/test_set/dogs/dog.4439.jpg is dog\n",
      "input/dataset/test_set/dogs/dog.4440.jpg is dog\n",
      "input/dataset/test_set/dogs/dog.4441.jpg is dog\n",
      "input/dataset/test_set/dogs/dog.4442.jpg is dog\n",
      "input/dataset/test_set/dogs/dog.4443.jpg is dog\n",
      "input/dataset/test_set/dogs/dog.4444.jpg is dog\n",
      "input/dataset/test_set/dogs/dog.4445.jpg is dog\n",
      "input/dataset/test_set/dogs/dog.4446.jpg is dog\n",
      "input/dataset/test_set/dogs/dog.4447.jpg is dog\n",
      "input/dataset/test_set/dogs/dog.4448.jpg is dog\n",
      "input/dataset/test_set/dogs/dog.4449.jpg is dog\n",
      "input/dataset/test_set/dogs/dog.4450.jpg is dog\n",
      "input/dataset/test_set/dogs/dog.4451.jpg is dog\n",
      "input/dataset/test_set/dogs/dog.4452.jpg is dog\n",
      "input/dataset/test_set/dogs/dog.4453.jpg is dog\n",
      "input/dataset/test_set/dogs/dog.4454.jpg is dog\n",
      "input/dataset/test_set/dogs/dog.4455.jpg is dog\n",
      "input/dataset/test_set/dogs/dog.4456.jpg is dog\n",
      "input/dataset/test_set/dogs/dog.4457.jpg is dog\n",
      "input/dataset/test_set/dogs/dog.4458.jpg is dog\n",
      "input/dataset/test_set/dogs/dog.4459.jpg is dog\n",
      "input/dataset/test_set/dogs/dog.4461.jpg is dog\n",
      "input/dataset/test_set/dogs/dog.4462.jpg is dog\n",
      "input/dataset/test_set/dogs/dog.4463.jpg is dog\n",
      "input/dataset/test_set/dogs/dog.4464.jpg is dog\n",
      "input/dataset/test_set/dogs/dog.4466.jpg is dog\n",
      "input/dataset/test_set/dogs/dog.4468.jpg is dog\n",
      "input/dataset/test_set/dogs/dog.4469.jpg is dog\n",
      "input/dataset/test_set/dogs/dog.4470.jpg is dog\n",
      "input/dataset/test_set/dogs/dog.4471.jpg is cat\n",
      "input/dataset/test_set/dogs/dog.4472.jpg is dog\n",
      "input/dataset/test_set/dogs/dog.4473.jpg is dog\n",
      "input/dataset/test_set/dogs/dog.4474.jpg is cat\n",
      "input/dataset/test_set/dogs/dog.4475.jpg is cat\n",
      "input/dataset/test_set/dogs/dog.4476.jpg is dog\n",
      "input/dataset/test_set/dogs/dog.4477.jpg is dog\n",
      "input/dataset/test_set/dogs/dog.4478.jpg is dog\n",
      "input/dataset/test_set/dogs/dog.4479.jpg is dog\n",
      "input/dataset/test_set/dogs/dog.4480.jpg is dog\n",
      "input/dataset/test_set/dogs/dog.4481.jpg is dog\n"
     ]
    }
   ],
   "source": [
    "for image in fullpath:\n",
    "    try:\n",
    "        img=img_to_array(image)\n",
    "        prediction=model.predict(img)[0][0]\n",
    "        if  prediction==1:\n",
    "            print(image, 'is dog')\n",
    "        else:\n",
    "            print(image,'is cat')\n",
    "    except:\n",
    "            pass"
   ]
  },
  {
   "cell_type": "code",
   "execution_count": 59,
   "metadata": {},
   "outputs": [
    {
     "name": "stdout",
     "output_type": "stream",
     "text": [
      "is cat\n"
     ]
    }
   ],
   "source": [
    "img=img_to_array('C:\\\\Users\\Mrigank Singh\\Downloads\\predict\\cats\\cat2.jpg')\n",
    "prediction=model.predict(img)\n",
    "if  prediction==1:\n",
    "    print( 'is dog')\n",
    "else:\n",
    "    print('is cat')"
   ]
  },
  {
   "cell_type": "code",
   "execution_count": 34,
   "metadata": {},
   "outputs": [],
   "source": [
    "from PIL import Image,ImageFilter"
   ]
  },
  {
   "cell_type": "code",
   "execution_count": 62,
   "metadata": {},
   "outputs": [],
   "source": [
    "dog=Image.open('C:\\\\Users\\Mrigank Singh\\Downloads\\predict\\cats\\cat2.jpg')"
   ]
  },
  {
   "cell_type": "code",
   "execution_count": 63,
   "metadata": {},
   "outputs": [
    {
     "data": {
      "image/png": "[encoded data removed]",
      "text/plain": [
       "<PIL.Image.Image image mode=RGB size=104x104 at 0x205A7916710>"
      ]
     },
     "execution_count": 63,
     "metadata": {},
     "output_type": "execute_result"
    }
   ],
   "source": [
    "dog.filter(ImageFilter.EDGE_ENHANCE_MORE)"
   ]
  },
  {
   "cell_type": "code",
   "execution_count": null,
   "metadata": {},
   "outputs": [],
   "source": [
    "8000/128"
   ]
  },
  {
   "cell_type": "code",
   "execution_count": null,
   "metadata": {},
   "outputs": [],
   "source": []
  }
 ],
 "metadata": {
  "kernelspec": {
   "display_name": "Python 3",
   "language": "python",
   "name": "python3"
  },
  "language_info": {
   "codemirror_mode": {
    "name": "ipython",
    "version": 3
   },
   "file_extension": ".py",
   "mimetype": "text/x-python",
   "name": "python",
   "nbconvert_exporter": "python",
   "pygments_lexer": "ipython3",
   "version": "3.6.10"
  }
 },
 "nbformat": 4,
 "nbformat_minor": 4
}
